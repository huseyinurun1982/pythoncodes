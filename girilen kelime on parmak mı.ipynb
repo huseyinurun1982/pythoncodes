{
 "cells": [
  {
   "cell_type": "code",
   "execution_count": 5,
   "metadata": {},
   "outputs": [
    {
     "name": "stdout",
     "output_type": "stream",
     "text": [
      "Lütfen bir kelime giriniz: clarusway\n",
      "True\n"
     ]
    }
   ],
   "source": [
    "word = set(input(\"Lütfen bir kelime giriniz: \"))\n",
    "\n",
    "left_hand = set('qwertasdfgzxcvb')\n",
    "right_hand = set('yuıopğühjklşinmöç')\n",
    "\n",
    "print(bool((word & left_hand) and (word & right_hand))) \n"
   ]
  },
  {
   "cell_type": "code",
   "execution_count": null,
   "metadata": {},
   "outputs": [],
   "source": []
  }
 ],
 "metadata": {
  "kernelspec": {
   "display_name": "Python 3",
   "language": "python",
   "name": "python3"
  },
  "language_info": {
   "codemirror_mode": {
    "name": "ipython",
    "version": 3
   },
   "file_extension": ".py",
   "mimetype": "text/x-python",
   "name": "python",
   "nbconvert_exporter": "python",
   "pygments_lexer": "ipython3",
   "version": "3.7.6"
  }
 },
 "nbformat": 4,
 "nbformat_minor": 4
}
