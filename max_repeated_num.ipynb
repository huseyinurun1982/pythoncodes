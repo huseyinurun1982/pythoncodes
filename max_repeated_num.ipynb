{
 "cells": [
  {
   "cell_type": "code",
   "execution_count": 3,
   "metadata": {
    "scrolled": true
   },
   "outputs": [
    {
     "name": "stdout",
     "output_type": "stream",
     "text": [
      "the most frequent number is 1 and it was 6 times repeated.\n"
     ]
    }
   ],
   "source": [
    "numbers = [1, 3, 1, 1, 1, 1, 1, 7, 4, 3, 0, 3, 6, 3]\n",
    "frequent_num = max(numbers, key = numbers.count)\n",
    "repeat = numbers.count(frequent_num)\n",
    "print(f\"the most frequent number is {frequent_num} and it was {repeat} times repeated.\")\n"
   ]
  },
  {
   "cell_type": "code",
   "execution_count": 2,
   "metadata": {},
   "outputs": [
    {
     "name": "stdout",
     "output_type": "stream",
     "text": [
      "Number: 3\n",
      "frequency: 4\n"
     ]
    }
   ],
   "source": [
    "List = [1, 3, 7, 4, 3, 0, 3, 6, 3]\n",
    "counter = 0\n",
    "num = List[0] \n",
    "      \n",
    "for i in List: \n",
    "    curr_frequency = List.count(i) \n",
    "    if(curr_frequency > counter): \n",
    "        counter = curr_frequency \n",
    "        num = i\n",
    "\n",
    "print(\"Number:\", num)\n",
    "print(\"frequency:\", counter)\n",
    "\n"
   ]
  },
  {
   "cell_type": "code",
   "execution_count": null,
   "metadata": {},
   "outputs": [],
   "source": []
  }
 ],
 "metadata": {
  "kernelspec": {
   "display_name": "Python 3",
   "language": "python",
   "name": "python3"
  },
  "language_info": {
   "codemirror_mode": {
    "name": "ipython",
    "version": 3
   },
   "file_extension": ".py",
   "mimetype": "text/x-python",
   "name": "python",
   "nbconvert_exporter": "python",
   "pygments_lexer": "ipython3",
   "version": "3.7.6"
  }
 },
 "nbformat": 4,
 "nbformat_minor": 4
}
