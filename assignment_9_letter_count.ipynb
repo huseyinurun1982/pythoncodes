{
 "cells": [
  {
   "cell_type": "code",
   "execution_count": 3,
   "metadata": {},
   "outputs": [
    {
     "name": "stdout",
     "output_type": "stream",
     "text": [
      "Plese enter a sentence : benim adım; Melek....!!!\n",
      "{'b': 1, 'e': 3, 'n': 1, 'i': 1, 'm': 2, ' ': 2, 'a': 1, 'd': 1, 'ı': 1, ';': 1, 'M': 1, 'l': 1, 'k': 1, '.': 4, '!': 3}\n"
     ]
    }
   ],
   "source": [
    "sentence = input(\"Plese enter a sentence : \")\n",
    "dictionary = {}\n",
    "\n",
    "for i in sentence:\n",
    "    letter = dictionary.keys()\n",
    "    if i in letter:\n",
    "        dictionary[i] += 1\n",
    "    else:\n",
    "        dictionary[i] = 1\n",
    "        \n",
    "print(dictionary)"
   ]
  },
  {
   "cell_type": "code",
   "execution_count": 10,
   "metadata": {},
   "outputs": [
    {
     "name": "stdout",
     "output_type": "stream",
     "text": [
      "Please enter a sentence: bir berber, bir berbere ne demiş?\n",
      "{'b': 6, 'i': 3, 'r': 6, ' ': 5, 'e': 7, ',': 1, 'n': 1, 'd': 1, 'm': 1, 'ş': 1, '?': 1}\n"
     ]
    }
   ],
   "source": [
    "sentence = input(\"Please enter a sentence: \")\n",
    "dict = {}\n",
    "for i in sentence:\n",
    "    letter = sentence.count(i)\n",
    "    dict[i] = letter\n",
    "print(dict)"
   ]
  }
 ],
 "metadata": {
  "kernelspec": {
   "display_name": "Python 3",
   "language": "python",
   "name": "python3"
  },
  "language_info": {
   "codemirror_mode": {
    "name": "ipython",
    "version": 3
   },
   "file_extension": ".py",
   "mimetype": "text/x-python",
   "name": "python",
   "nbconvert_exporter": "python",
   "pygments_lexer": "ipython3",
   "version": "3.7.6"
  }
 },
 "nbformat": 4,
 "nbformat_minor": 4
}
