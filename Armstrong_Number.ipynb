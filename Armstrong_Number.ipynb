{
 "cells": [
  {
   "cell_type": "code",
   "execution_count": 38,
   "metadata": {},
   "outputs": [
    {
     "name": "stdout",
     "output_type": "stream",
     "text": [
      "Please enter a positive number : -one\n",
      "It is an invalid entry. Don't use non-numeric, float, or negative values!\n",
      "Please re-enter your number as valid (positive integer): -8\n",
      "It is an invalid entry. Don't use non-numeric, float, or negative values!\n",
      "Please re-enter your number as valid (positive integer): 12.5\n",
      "It is an invalid entry. Don't use non-numeric, float, or negative values!\n",
      "Please re-enter your number as valid (positive integer): 371\n",
      "371 is an Armstrong number.\n"
     ]
    }
   ],
   "source": [
    "number = input(\"Please enter a positive number : \")\n",
    "num_count = len(number)\n",
    "summ = 0\n",
    "\n",
    "while number.isnumeric() == False:\n",
    "    print(\"It is an invalid entry. Don't use non-numeric, float, or negative values!\")\n",
    "    number = input(\"Please re-enter your number as valid (positive integer): \")\n",
    "    \n",
    "num_count = len(number)\n",
    "\n",
    "if number.isnumeric() == True :\n",
    "    for i in range(num_count):\n",
    "        summ +=  int(number[i])**len(number)\n",
    "    if summ == int(number) :\n",
    "        print(f\"{number} is an Armstrong number.\")\n",
    "    else:\n",
    "        print(f\"{number} is not an Armstrong number.\")\n",
    "               \n"
   ]
  }
 ],
 "metadata": {
  "kernelspec": {
   "display_name": "Python 3",
   "language": "python",
   "name": "python3"
  },
  "language_info": {
   "codemirror_mode": {
    "name": "ipython",
    "version": 3
   },
   "file_extension": ".py",
   "mimetype": "text/x-python",
   "name": "python",
   "nbconvert_exporter": "python",
   "pygments_lexer": "ipython3",
   "version": "3.7.6"
  }
 },
 "nbformat": 4,
 "nbformat_minor": 4
}
